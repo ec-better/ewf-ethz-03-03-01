{
 "cells": [
  {
   "cell_type": "markdown",
   "metadata": {},
   "source": [
    "##  Unsupervised KMeans image classification with the Orfeo Toolbox"
   ]
  },
  {
   "cell_type": "markdown",
   "metadata": {},
   "source": [
    "The application runs the unsupervised KMeans image classification using four bands of a Sentinel-2 tile on Amazon AWS"
   ]
  },
  {
   "cell_type": "markdown",
   "metadata": {},
   "source": [
    "### <a name=\"quicklink\">Quick link"
   ]
  },
  {
   "cell_type": "markdown",
   "metadata": {},
   "source": [
    "* [Objective](#objective)\n",
    "* [Data](#data)\n",
    "* [Service Definition](#service)\n",
    "* [Parameter Definition](#parameter)\n",
    "* [Runtime Parameter Definition](#runtime)\n",
    "* [Workflow](#workflow)\n",
    "* [License](#license)"
   ]
  },
  {
   "cell_type": "markdown",
   "metadata": {},
   "source": [
    "### <a name=\"objective\">Objective "
   ]
  },
  {
   "cell_type": "markdown",
   "metadata": {},
   "source": [
    "Use GDAL VSI to extract a subset of four bands of the Sentinel-2 tile SQB acquired on 24 October 2016 and then apply the unsupervised KMeans image classification using the Orfeo Toolbox Python bindings  "
   ]
  },
  {
   "cell_type": "markdown",
   "metadata": {},
   "source": [
    "### <a name=\"data\">Data "
   ]
  },
  {
   "cell_type": "markdown",
   "metadata": {},
   "source": [
    "SENTINEL data products are made available systematically and free of charge to all data users including the general public, scientific and commercial users. Radar data will be delivered within an hour of reception for Near Real-Time (NRT) emergency response, within three hours for NRT priority areas and within 24 hours for systematically archived data.\n",
    "\n",
    "The data used are Sentinel-2 Level-1C products: Top of atmosphere reflectances in fixed cartographic geometry (combined UTM projection and WGS84 ellipsoid). Level-1C images are a set of tiles of 100 sq km, each of which is approximately 500 MB. These products contain applied radiometric and geometric corrections (including orthorectification and spatial registration). \n",
    "\n",
    "The spectral bands of Sentinel-2 Level-1C products are:\n",
    "\n",
    "| S-2 band                | 1   | 2   | 3   | 4   | 5   | 6   | 7   | 8   | 8a  | 9   | 10   | 11   | 12   |\n",
    "|-------------------------|-----|-----|-----|-----|-----|-----|-----|-----|-----|-----|------|------|------|\n",
    "| Central wavelength (nm) | 443 | 490 | 560 | 665 | 705 | 740 | 783 | 842 | 865 | 945 | 1375 | 1610 | 2190 |\n",
    "| Bandwidth (nm)          | 20  | 65  | 35  | 30  | 15  | 15  | 20  | 115 | 20  | 20  | 30   | 90   | 180  |\n",
    "| Spatial resolution (m)  | 60  | 10  | 10  | 10  | 20  | 20  | 20  | 10  | 20  | 60  | 60   | 20   | 20   |"
   ]
  },
  {
   "cell_type": "markdown",
   "metadata": {},
   "source": [
    "### <a name=\"service\">Service Definition"
   ]
  },
  {
   "cell_type": "code",
   "execution_count": 1,
   "metadata": {
    "collapsed": true
   },
   "outputs": [],
   "source": [
    "service = dict([('title', 'ewf notebook 1'),\n",
    "                ('abstract', 'sample application'),\n",
    "                ('id', 'ewf_notebook_1')])"
   ]
  },
  {
   "cell_type": "code",
   "execution_count": 2,
   "metadata": {
    "collapsed": true
   },
   "outputs": [],
   "source": [
    "ts = dict([('id', 'ts'),\n",
    "               ('value', '1000'),\n",
    "               ('title', 'Training set size'),\n",
    "               ('abstract', 'Size of the training set (in pixels)')])"
   ]
  },
  {
   "cell_type": "markdown",
   "metadata": {},
   "source": [
    "**Number of classes**\n",
    "\n",
    "Number of modes, which will be used to generate class membership"
   ]
  },
  {
   "cell_type": "code",
   "execution_count": 3,
   "metadata": {
    "collapsed": false
   },
   "outputs": [],
   "source": [
    "nc = dict([('id', 'nc'),\n",
    "           ('value', '5'),\n",
    "           ('title', 'Number of classes'),\n",
    "           ('abstract', 'Number of modes, which will be used to generate class membership')])"
   ]
  },
  {
   "cell_type": "markdown",
   "metadata": {},
   "source": [
    "**Maximum number of iterations**\n",
    "\n",
    "Maximum number of iterations for the learning step"
   ]
  },
  {
   "cell_type": "code",
   "execution_count": 4,
   "metadata": {
    "collapsed": false
   },
   "outputs": [],
   "source": [
    "maxit = dict([('id', 'maxit'),\n",
    "              ('value', '1000'),\n",
    "              ('title', 'Maximum number of iterations'),\n",
    "              ('abstract', 'Maximum number of iterations for the learning step')])"
   ]
  },
  {
   "cell_type": "markdown",
   "metadata": {},
   "source": [
    "### <a name=\"runtime\">Runtime parameter definition"
   ]
  },
  {
   "cell_type": "markdown",
   "metadata": {},
   "source": [
    "**Input reference**\n",
    "\n",
    "This is the Sentinel-2 Amazon AWS base URL"
   ]
  },
  {
   "cell_type": "code",
   "execution_count": 5,
   "metadata": {
    "collapsed": true,
    "param": "aoi"
   },
   "outputs": [],
   "source": [
    "input_reference = 'http://sentinel-s2-l1c.s3-website.eu-central-1.amazonaws.com/tiles/29/S/QB/2016/10/24/0/'"
   ]
  },
  {
   "cell_type": "markdown",
   "metadata": {},
   "source": [
    "### <a name=\"workflow\">Workflow"
   ]
  },
  {
   "cell_type": "markdown",
   "metadata": {},
   "source": [
    "#### Import the packages required for processing the data"
   ]
  },
  {
   "cell_type": "code",
   "execution_count": 6,
   "metadata": {
    "collapsed": true
   },
   "outputs": [],
   "source": [
    "import os\n",
    "import sys\n",
    "sys.path.append('/opt/OTB-6.2.0/lib/python')\n",
    "sys.path.append('/opt/OTB-6.2.0/lib/libfftw3.so.3')\n",
    "os.environ['OTB_APPLICATION_PATH'] = '/opt/OTB-6.2.0/lib/otb/applications'\n",
    "os.environ['LD_LIBRARY_PATH'] = '/opt/OTB-6.2.0/lib'\n",
    "os.environ['ITK_AUTOLOAD_PATH'] = '/opt/OTB-6.2.0/lib/otb/applications'\n",
    "os.environ['GDAL_DATA'] = '/opt/anaconda/share/gdal/'\n",
    "import otbApplication\n",
    "\n",
    "import gdal"
   ]
  },
  {
   "cell_type": "markdown",
   "metadata": {
    "collapsed": true
   },
   "source": [
    "#### Define the JPEG-2000 Sentinel-2 bands 2, 3, 4 and 8 Amazon AWS URLs"
   ]
  },
  {
   "cell_type": "code",
   "execution_count": 7,
   "metadata": {
    "collapsed": true
   },
   "outputs": [],
   "source": [
    "b02 = input_reference + 'B02.jp2'\n",
    "b03 = input_reference + 'B03.jp2'\n",
    "b04 = input_reference + 'B04.jp2'\n",
    "b08 = input_reference + 'B08.jp2'"
   ]
  },
  {
   "cell_type": "markdown",
   "metadata": {},
   "source": [
    "#### Use gdal to read the Sentinel-2 bands for the area of interest"
   ]
  },
  {
   "cell_type": "code",
   "execution_count": 8,
   "metadata": {
    "collapsed": false
   },
   "outputs": [
    {
     "name": "stdout",
     "output_type": "stream",
     "text": [
      "/vsicurl/http://sentinel-s2-l1c.s3-website.eu-central-1.amazonaws.com/tiles/29/S/QB/2016/10/24/0/B02.jp2\n",
      "/vsicurl/http://sentinel-s2-l1c.s3-website.eu-central-1.amazonaws.com/tiles/29/S/QB/2016/10/24/0/B03.jp2\n",
      "/vsicurl/http://sentinel-s2-l1c.s3-website.eu-central-1.amazonaws.com/tiles/29/S/QB/2016/10/24/0/B04.jp2\n",
      "/vsicurl/http://sentinel-s2-l1c.s3-website.eu-central-1.amazonaws.com/tiles/29/S/QB/2016/10/24/0/B08.jp2\n"
     ]
    }
   ],
   "source": [
    "bbox = [ -6.3302225, 37.000049197449, -5.0422666,  35.78047107 ]\n",
    "\n",
    "s2_urls = [ b02, b03, b04, b08 ]\n",
    "s2_results = ['b02.tif', 'b03.tif', 'b04.tif', 'b08.tif']\n",
    "\n",
    "for index, item in enumerate(s2_urls, start = 0):\n",
    "    print('/vsicurl/%s' % item)\n",
    "    ds = gdal.Open('/vsicurl/%s' % item)\n",
    "    ds = gdal.Translate(s2_results[index], ds, projWin = bbox, projWinSRS = 'EPSG:4326')\n",
    "    ds = None\n"
   ]
  },
  {
   "cell_type": "markdown",
   "metadata": {},
   "source": [
    "#### Concatenate the bands with OTB"
   ]
  },
  {
   "cell_type": "code",
   "execution_count": 9,
   "metadata": {
    "collapsed": false
   },
   "outputs": [
    {
     "data": {
      "text/plain": [
       "0"
      ]
     },
     "execution_count": 9,
     "metadata": {},
     "output_type": "execute_result"
    }
   ],
   "source": [
    "OTB_app1 = otbApplication.Registry.CreateApplication(\"ConcatenateImages\")    \n",
    "OTB_app1.SetParameterStringList(\"il\", s2_results)\n",
    "OTB_app1.SetParameterString('out', 'concat.tif')\n",
    "OTB_app1.SetParameterOutputImagePixelType(\"out\", otbApplication.ImagePixelType_uint16)\n",
    "OTB_app1.ExecuteAndWriteOutput()\n"
   ]
  },
  {
   "cell_type": "markdown",
   "metadata": {},
   "source": [
    "#### Delete the single bands to free the local disk"
   ]
  },
  {
   "cell_type": "code",
   "execution_count": 10,
   "metadata": {
    "collapsed": true
   },
   "outputs": [],
   "source": [
    "for index, item in enumerate(s2_results, start = 0):\n",
    "  os.remove(item)"
   ]
  },
  {
   "cell_type": "markdown",
   "metadata": {},
   "source": [
    "#### Apply the KMeans Classification OTB application"
   ]
  },
  {
   "cell_type": "code",
   "execution_count": 11,
   "metadata": {
    "collapsed": false
   },
   "outputs": [
    {
     "data": {
      "text/plain": [
       "0"
      ]
     },
     "execution_count": 11,
     "metadata": {},
     "output_type": "execute_result"
    }
   ],
   "source": [
    "OTB_app2 = otbApplication.Registry.CreateApplication('KMeansClassification')\n",
    "OTB_app2.SetParameterString('in', 'concat.tif')\n",
    "OTB_app2.SetParameterInt('ts', int(ts['value']))\n",
    "OTB_app2.SetParameterInt('nc', int(nc['value']))\n",
    "OTB_app2.SetParameterInt('maxit', int(maxit['value']))\n",
    "OTB_app2.SetParameterString('out', 'classification.tif')\n",
    "OTB_app2.SetParameterOutputImagePixelType(\"out\", otbApplication.ImagePixelType_uint16)\n",
    "OTB_app2.ExecuteAndWriteOutput()"
   ]
  },
  {
   "cell_type": "code",
   "execution_count": 12,
   "metadata": {
    "collapsed": true
   },
   "outputs": [],
   "source": [
    "os.remove('concat.tif')"
   ]
  },
  {
   "cell_type": "markdown",
   "metadata": {},
   "source": [
    "#### Produce an RGB output with a look-up table"
   ]
  },
  {
   "cell_type": "code",
   "execution_count": 13,
   "metadata": {
    "collapsed": true
   },
   "outputs": [],
   "source": [
    "file = open('classification.lut', 'w') \n",
    " \n",
    "file.write('0 51 153 255') \n",
    "file.write('1 255 255 204') \n",
    "file.write('2 229 255 204') \n",
    "file.write('3 204 255 255') \n",
    "file.write('4 255 204 255') \n",
    " \n",
    "file.close() "
   ]
  },
  {
   "cell_type": "code",
   "execution_count": 14,
   "metadata": {
    "collapsed": false
   },
   "outputs": [
    {
     "data": {
      "text/plain": [
       "0"
      ]
     },
     "execution_count": 14,
     "metadata": {},
     "output_type": "execute_result"
    }
   ],
   "source": [
    "OTB_app3 = otbApplication.Registry.CreateApplication(\"ColorMapping\")\n",
    "OTB_app3.SetParameterString(\"in\", 'classification.tif')\n",
    "OTB_app3.SetParameterString(\"method\",\"custom\")\n",
    "OTB_app3.SetParameterString(\"method.custom.lut\", 'classification.lut')\n",
    "OTB_app3.SetParameterString(\"out\", 'preview.tif')\n",
    "OTB_app3.SetParameterOutputImagePixelType(\"out\", otbApplication.ImagePixelType_uint8)\n",
    "OTB_app3.ExecuteAndWriteOutput()\n"
   ]
  },
  {
   "cell_type": "code",
   "execution_count": 15,
   "metadata": {
    "collapsed": true
   },
   "outputs": [],
   "source": [
    "os.remove('classification.lut')"
   ]
  },
  {
   "cell_type": "markdown",
   "metadata": {},
   "source": [
    "### <a name=\"license\">License"
   ]
  },
  {
   "cell_type": "markdown",
   "metadata": {},
   "source": [
    "This work is licenced under a [Attribution-ShareAlike 4.0 International License (CC BY-SA 4.0)](http://creativecommons.org/licenses/by-sa/4.0/) \n",
    "\n",
    "YOU ARE FREE TO:\n",
    "\n",
    "* Share - copy and redistribute the material in any medium or format.\n",
    "* Adapt - remix, transform, and built upon the material for any purpose, even commercially.\n",
    "\n",
    "UNDER THE FOLLOWING TERMS:\n",
    "\n",
    "* Attribution - You must give appropriate credit, provide a link to the license, and indicate if changes were made. You may do so in any reasonable manner, but not in any way that suggests the licensor endorses you or your use.\n",
    "* ShareAlike - If you remix, transform, or build upon the material, you must distribute your contributions under the same license as the original."
   ]
  },
  {
   "cell_type": "code",
   "execution_count": null,
   "metadata": {
    "collapsed": true
   },
   "outputs": [],
   "source": []
  }
 ],
 "metadata": {
  "kernelspec": {
   "display_name": "Python 2",
   "language": "python",
   "name": "python2"
  },
  "language_info": {
   "codemirror_mode": {
    "name": "ipython",
    "version": 2
   },
   "file_extension": ".py",
   "mimetype": "text/x-python",
   "name": "python",
   "nbconvert_exporter": "python",
   "pygments_lexer": "ipython2",
   "version": "2.7.12"
  }
 },
 "nbformat": 4,
 "nbformat_minor": 2
}
